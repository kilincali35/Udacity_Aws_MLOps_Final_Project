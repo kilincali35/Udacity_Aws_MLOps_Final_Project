{
 "cells": [
  {
   "cell_type": "markdown",
   "metadata": {},
   "source": [
    "# TODO: Data Preperation and Analysis Notebook\n",
    "**TODO**: This notebook is prepared for fetching the required data, splitting it into Train/Test/Validation sets, and also uploading these sets to S3 Bucket. \n",
    "\n",
    "Afterwards, some descriptive analysis was made to explore the distributions of dataset"
   ]
  },
  {
   "cell_type": "code",
   "execution_count": 18,
   "metadata": {},
   "outputs": [
    {
     "name": "stdout",
     "output_type": "stream",
     "text": [
      "sagemaker.config INFO - Not applying SDK defaults from location: /etc/xdg/sagemaker/config.yaml\n",
      "sagemaker.config INFO - Not applying SDK defaults from location: /home/sagemaker-user/.config/sagemaker/config.yaml\n"
     ]
    },
    {
     "data": {
      "text/plain": [
       "'\\n\\nfrom sagemaker import Session\\nfrom sagemaker.tuner import (IntegerParameter, CategoricalParameter, ContinuousParameter, HyperparameterTuner, HyperparameterTuningJobAnalytics)\\nfrom sagemaker.pytorch import PyTorch\\nfrom sagemaker.debugger import (Rule, ProfilerRule, rule_configs, DebuggerHookConfig, ProfilerConfig, FrameworkProfile)\\nfrom sagemaker.pytorch import PyTorchModel\\nfrom sagemaker.predictor import Predictor\\nfrom sagemaker.serializers import IdentitySerializer\\n\\nfrom smdebug.profiler.analysis.notebook_utils.training_job import TrainingJob\\nfrom smdebug.profiler.analysis.notebook_utils.timeline_charts import TimelineCharts\\n\\n\\nimport boto3\\n\\nimport os\\nimport io\\n\\nfrom tqdm import tqdm\\nimport IPython\\nfrom PIL import Image\\nimport numpy as np\\nimport matplotlib.pyplot as plt\\nimport torchvision.transforms as transforms\\n'"
      ]
     },
     "execution_count": 18,
     "metadata": {},
     "output_type": "execute_result"
    }
   ],
   "source": [
    "# TODO: Import any packages that you might need\n",
    "import json\n",
    "import random\n",
    "import os\n",
    "import json\n",
    "import boto3\n",
    "from tqdm import tqdm\n",
    "import numpy as np\n",
    "import shutil\n",
    "import pandas as pd\n",
    "import sagemaker"
   ]
  },
  {
   "cell_type": "markdown",
   "metadata": {},
   "source": [
    "## Data Preparation\n",
    "**TODO:** Run the cell below to download the data.\n",
    "\n",
    "The cell below creates a folder called `train_data`, downloads training data and arranges it in subfolders. Each of these subfolders contain images where the number of objects is equal to the name of the folder. For instance, all images in folder `1` has images with 1 object in them. Images are not divided into training, testing or validation sets. If you feel like the number of samples are not enough, you can always download more data (instructions for that can be found [here](https://registry.opendata.aws/amazon-bin-imagery/)). However, we are not acessing you on the accuracy of your final trained model, but how you create your machine learning engineering pipeline."
   ]
  },
  {
   "cell_type": "code",
   "execution_count": 1,
   "metadata": {},
   "outputs": [],
   "source": [
    "def create_dataset_splits(data_dir):\n",
    "    with open(data_dir, 'r') as f:\n",
    "        d=json.load(f)\n",
    "\n",
    "    train = {}\n",
    "    valid = {}\n",
    "    test = {}\n",
    "    for k, v in d.items():\n",
    "        l = len(v)\n",
    "        print(\"%s has %d items\" % (k, l))\n",
    "        random.shuffle(v)\n",
    "        i = (int)(0.8 * l)\n",
    "        j = (int)(0.9 * l)\n",
    "        train[k] = v[:i]\n",
    "        valid[k] = v[i:j]\n",
    "        test[k] = v[j:]\n",
    "        print(\"%s:%s:%s\" % (len(train[k]), len(valid[k]), len(test[k])))\n",
    "\n",
    "    with open('train_data.json', 'w') as f:\n",
    "        json.dump(train, f)\n",
    "    with open('valid_data.json', 'w') as f:\n",
    "        json.dump(valid, f)\n",
    "    with open('test_data.json', 'w') as f:\n",
    "        json.dump(test, f)"
   ]
  },
  {
   "cell_type": "code",
   "execution_count": 6,
   "metadata": {},
   "outputs": [
    {
     "name": "stdout",
     "output_type": "stream",
     "text": [
      "1 has 1228 items\n",
      "982:123:123\n",
      "2 has 2299 items\n",
      "1839:230:230\n",
      "3 has 2666 items\n",
      "2132:267:267\n",
      "4 has 2373 items\n",
      "1898:237:238\n",
      "5 has 1875 items\n",
      "1500:187:188\n"
     ]
    }
   ],
   "source": [
    "create_dataset_splits('file_list.json')"
   ]
  },
  {
   "cell_type": "code",
   "execution_count": 8,
   "metadata": {},
   "outputs": [],
   "source": [
    "s3_client = boto3.client('s3')\n",
    "\n",
    "def download_and_arrange_data(folder):\n",
    "    s3_client = boto3.client('s3')\n",
    "\n",
    "    with open(f\"{folder}.json\", 'r') as f:\n",
    "        d=json.load(f)\n",
    "\n",
    "    for k, v in d.items():\n",
    "        print(f\"Downloading Images with {k} objects\")\n",
    "        directory=os.path.join(folder, k)\n",
    "        if not os.path.exists(directory):\n",
    "            os.makedirs(directory)\n",
    "        for file_path in tqdm(v):\n",
    "            file_name=os.path.basename(file_path).split('.')[0]+'.jpg'\n",
    "            s3_client.download_file('aft-vbi-pds', os.path.join('bin-images', file_name),\n",
    "                             os.path.join(directory, file_name))\n",
    "\n",
    "# download_and_arrange_data()"
   ]
  },
  {
   "cell_type": "code",
   "execution_count": null,
   "metadata": {},
   "outputs": [],
   "source": [
    "download_and_arrange_data('train_data')\n",
    "download_and_arrange_data('valid_data')\n",
    "download_and_arrange_data('test_data')"
   ]
  },
  {
   "cell_type": "markdown",
   "metadata": {},
   "source": [
    "## Dataset\n",
    "**TODO:** Explain what dataset you are using for this project. Give a small overview of the classes, class distributions etc that can help anyone not familiar with the dataset get a better understanding of it. You can find more information about the data [here](https://registry.opendata.aws/amazon-bin-imagery/)."
   ]
  },
  {
   "cell_type": "code",
   "execution_count": null,
   "metadata": {},
   "outputs": [],
   "source": [
    "#TODO: Perform any data cleaning or data preprocessing"
   ]
  },
  {
   "cell_type": "code",
   "execution_count": null,
   "metadata": {},
   "outputs": [],
   "source": [
    "#TODO: Upload the data to AWS S3"
   ]
  },
  {
   "cell_type": "code",
   "execution_count": 9,
   "metadata": {},
   "outputs": [
    {
     "name": "stdout",
     "output_type": "stream",
     "text": [
      "test_data:\n",
      "total 60\n",
      "drwxr-xr-x 7 sagemaker-user users   51 Jul  6 14:41 .\n",
      "drwxr-xr-x 7 sagemaker-user users 4096 Jul 13 15:17 ..\n",
      "drwxr-xr-x 2 sagemaker-user users 4096 Jul  6 14:41 1\n",
      "drwxr-xr-x 2 sagemaker-user users 8192 Jul  6 14:41 2\n",
      "drwxr-xr-x 2 sagemaker-user users 8192 Jul  6 14:41 3\n",
      "drwxr-xr-x 2 sagemaker-user users 8192 Jul  6 14:41 4\n",
      "drwxr-xr-x 2 sagemaker-user users 8192 Jul  6 14:42 5\n",
      "\n",
      "train_data:\n",
      "total 448\n",
      "drwxr-xr-x 7 sagemaker-user users    51 Jul  6 14:37 .\n",
      "drwxr-xr-x 7 sagemaker-user users  4096 Jul 13 15:17 ..\n",
      "drwxr-xr-x 2 sagemaker-user users 28672 Jul  6 14:30 1\n",
      "drwxr-xr-x 2 sagemaker-user users 53248 Jul  6 14:32 2\n",
      "drwxr-xr-x 2 sagemaker-user users 81920 Jul  6 14:35 3\n",
      "drwxr-xr-x 2 sagemaker-user users 73728 Jul  6 14:37 4\n",
      "drwxr-xr-x 3 sagemaker-user users 73728 Jul  6 18:30 5\n",
      "\n",
      "valid_data:\n",
      "total 60\n",
      "drwxr-xr-x 7 sagemaker-user users   51 Jul  6 14:40 .\n",
      "drwxr-xr-x 7 sagemaker-user users 4096 Jul 13 15:17 ..\n",
      "drwxr-xr-x 2 sagemaker-user users 4096 Jul  6 14:39 1\n",
      "drwxr-xr-x 2 sagemaker-user users 8192 Jul  6 14:40 2\n",
      "drwxr-xr-x 2 sagemaker-user users 8192 Jul  6 14:40 3\n",
      "drwxr-xr-x 2 sagemaker-user users 8192 Jul  6 14:40 4\n",
      "drwxr-xr-x 2 sagemaker-user users 8192 Jul  6 14:40 5\n"
     ]
    }
   ],
   "source": [
    "!ls -al train_data valid_data test_data"
   ]
  },
  {
   "cell_type": "code",
   "execution_count": 12,
   "metadata": {},
   "outputs": [
    {
     "name": "stdout",
     "output_type": "stream",
     "text": [
      "1 has 1228 items\n",
      "2 has 2299 items\n",
      "3 has 2666 items\n",
      "4 has 2373 items\n",
      "5 has 1875 items\n"
     ]
    }
   ],
   "source": [
    "with open('file_list.json', 'r') as f:\n",
    "    d = json.load(f)\n",
    "\n",
    "quantities = []\n",
    "file_names = []\n",
    "for k, v in d.items():\n",
    "    quantities.append([k] * len(v))\n",
    "    file_names.append(v)\n",
    "    print(\"%s has %d items\" % (k, len(v)))\n",
    "\n",
    "quantities = [item for sublist in quantities for item in sublist]\n",
    "file_names = [item for sublist in file_names for item in sublist]\n",
    "\n",
    "df = pd.DataFrame({\"data\": file_names, \"quantity\": quantities})"
   ]
  },
  {
   "cell_type": "code",
   "execution_count": 13,
   "metadata": {},
   "outputs": [
    {
     "data": {
      "text/html": [
       "<div>\n",
       "<style scoped>\n",
       "    .dataframe tbody tr th:only-of-type {\n",
       "        vertical-align: middle;\n",
       "    }\n",
       "\n",
       "    .dataframe tbody tr th {\n",
       "        vertical-align: top;\n",
       "    }\n",
       "\n",
       "    .dataframe thead th {\n",
       "        text-align: right;\n",
       "    }\n",
       "</style>\n",
       "<table border=\"1\" class=\"dataframe\">\n",
       "  <thead>\n",
       "    <tr style=\"text-align: right;\">\n",
       "      <th></th>\n",
       "      <th>data</th>\n",
       "      <th>quantity</th>\n",
       "    </tr>\n",
       "  </thead>\n",
       "  <tbody>\n",
       "    <tr>\n",
       "      <th>0</th>\n",
       "      <td>data/metadata/100313.json</td>\n",
       "      <td>1</td>\n",
       "    </tr>\n",
       "    <tr>\n",
       "      <th>1</th>\n",
       "      <td>data/metadata/09915.json</td>\n",
       "      <td>1</td>\n",
       "    </tr>\n",
       "    <tr>\n",
       "      <th>2</th>\n",
       "      <td>data/metadata/103299.json</td>\n",
       "      <td>1</td>\n",
       "    </tr>\n",
       "    <tr>\n",
       "      <th>3</th>\n",
       "      <td>data/metadata/00710.json</td>\n",
       "      <td>1</td>\n",
       "    </tr>\n",
       "    <tr>\n",
       "      <th>4</th>\n",
       "      <td>data/metadata/05397.json</td>\n",
       "      <td>1</td>\n",
       "    </tr>\n",
       "  </tbody>\n",
       "</table>\n",
       "</div>"
      ],
      "text/plain": [
       "                        data quantity\n",
       "0  data/metadata/100313.json        1\n",
       "1   data/metadata/09915.json        1\n",
       "2  data/metadata/103299.json        1\n",
       "3   data/metadata/00710.json        1\n",
       "4   data/metadata/05397.json        1"
      ]
     },
     "execution_count": 13,
     "metadata": {},
     "output_type": "execute_result"
    }
   ],
   "source": [
    "df.head()"
   ]
  },
  {
   "cell_type": "code",
   "execution_count": 14,
   "metadata": {},
   "outputs": [],
   "source": [
    "df[\"quantity\"] = pd.to_numeric(df[\"quantity\"])"
   ]
  },
  {
   "cell_type": "code",
   "execution_count": 15,
   "metadata": {},
   "outputs": [
    {
     "data": {
      "text/html": [
       "<div>\n",
       "<style scoped>\n",
       "    .dataframe tbody tr th:only-of-type {\n",
       "        vertical-align: middle;\n",
       "    }\n",
       "\n",
       "    .dataframe tbody tr th {\n",
       "        vertical-align: top;\n",
       "    }\n",
       "\n",
       "    .dataframe thead th {\n",
       "        text-align: right;\n",
       "    }\n",
       "</style>\n",
       "<table border=\"1\" class=\"dataframe\">\n",
       "  <thead>\n",
       "    <tr style=\"text-align: right;\">\n",
       "      <th></th>\n",
       "      <th>quantity</th>\n",
       "    </tr>\n",
       "  </thead>\n",
       "  <tbody>\n",
       "    <tr>\n",
       "      <th>count</th>\n",
       "      <td>10441.000000</td>\n",
       "    </tr>\n",
       "    <tr>\n",
       "      <th>mean</th>\n",
       "      <td>3.131022</td>\n",
       "    </tr>\n",
       "    <tr>\n",
       "      <th>std</th>\n",
       "      <td>1.272490</td>\n",
       "    </tr>\n",
       "    <tr>\n",
       "      <th>min</th>\n",
       "      <td>1.000000</td>\n",
       "    </tr>\n",
       "    <tr>\n",
       "      <th>25%</th>\n",
       "      <td>2.000000</td>\n",
       "    </tr>\n",
       "    <tr>\n",
       "      <th>50%</th>\n",
       "      <td>3.000000</td>\n",
       "    </tr>\n",
       "    <tr>\n",
       "      <th>75%</th>\n",
       "      <td>4.000000</td>\n",
       "    </tr>\n",
       "    <tr>\n",
       "      <th>max</th>\n",
       "      <td>5.000000</td>\n",
       "    </tr>\n",
       "  </tbody>\n",
       "</table>\n",
       "</div>"
      ],
      "text/plain": [
       "           quantity\n",
       "count  10441.000000\n",
       "mean       3.131022\n",
       "std        1.272490\n",
       "min        1.000000\n",
       "25%        2.000000\n",
       "50%        3.000000\n",
       "75%        4.000000\n",
       "max        5.000000"
      ]
     },
     "execution_count": 15,
     "metadata": {},
     "output_type": "execute_result"
    }
   ],
   "source": [
    "df.describe()"
   ]
  },
  {
   "cell_type": "code",
   "execution_count": 16,
   "metadata": {},
   "outputs": [
    {
     "data": {
      "text/plain": [
       "<Axes: >"
      ]
     },
     "execution_count": 16,
     "metadata": {},
     "output_type": "execute_result"
    },
    {
     "data": {
      "image/png": "[encoded data removed]",
      "text/plain": [
       "<Figure size 640x480 with 1 Axes>"
      ]
     },
     "metadata": {},
     "output_type": "display_data"
    }
   ],
   "source": [
    "# This part shows the quantities of objects in the dataset images, frequency of target variable\n",
    "df[\"quantity\"].hist()"
   ]
  },
  {
   "cell_type": "code",
   "execution_count": 19,
   "metadata": {},
   "outputs": [],
   "source": [
    "sagemaker_session = sagemaker.Session()\n",
    "bucket = sagemaker_session.default_bucket()\n",
    "role = sagemaker.get_execution_role()"
   ]
  },
  {
   "cell_type": "code",
   "execution_count": 20,
   "metadata": {},
   "outputs": [
    {
     "name": "stdout",
     "output_type": "stream",
     "text": [
      "Default Bucket: sagemaker-us-east-1-462848125024\n",
      "RoleArn: arn:aws:iam::462848125024:role/service-role/AmazonSageMaker-ExecutionRole-20240606T225120\n"
     ]
    }
   ],
   "source": [
    "print(f\"Default Bucket: {bucket}\")\n",
    "print(f\"RoleArn: {role}\")"
   ]
  },
  {
   "cell_type": "code",
   "execution_count": 21,
   "metadata": {},
   "outputs": [],
   "source": [
    "# This cell needs to be run at first time. from second time on, we don't need to run it\n",
    "# This cell is required to upload our splitted dataset into S3 bucket\n",
    "\n",
    "def upload_to_s3(local_dir, bucket, prefix):\n",
    "    inputs = sagemaker_session.upload_data(path=local_dir,  bucket=bucket,  key_prefix=prefix)\n",
    "    return inputs\n",
    "\n",
    "prefix = \"aws_capstone_project\""
   ]
  },
  {
   "cell_type": "code",
   "execution_count": null,
   "metadata": {},
   "outputs": [],
   "source": [
    "train = upload_to_s3(\"train_data\", bucket, prefix)\n",
    "print(f\"input spec (in this case, just an S3 path): {train}\")"
   ]
  },
  {
   "cell_type": "code",
   "execution_count": null,
   "metadata": {},
   "outputs": [],
   "source": [
    "valid = upload_to_s3(\"valid_data\", bucket, prefix)\n",
    "print(f\"input spec (in this case, just an S3 path): {valid}\")"
   ]
  },
  {
   "cell_type": "code",
   "execution_count": null,
   "metadata": {},
   "outputs": [],
   "source": [
    "test = upload_to_s3(\"test_data\", bucket, prefix)\n",
    "print(f\"input spec (in this case, just an S3 path): {test}\")"
   ]
  },
  {
   "cell_type": "code",
   "execution_count": null,
   "metadata": {
    "scrolled": true
   },
   "outputs": [],
   "source": [
    "!aws s3 cp train_data s3://sagemaker-us-east-1-462848125024/aws_capstone_project/train_data --recursive"
   ]
  },
  {
   "cell_type": "code",
   "execution_count": null,
   "metadata": {
    "scrolled": true
   },
   "outputs": [],
   "source": [
    "!aws s3 cp valid_data s3://sagemaker-us-east-1-462848125024/aws_capstone_project/valid_data --recursive"
   ]
  },
  {
   "cell_type": "code",
   "execution_count": null,
   "metadata": {
    "scrolled": true
   },
   "outputs": [],
   "source": [
    "!aws s3 cp test_data s3://sagemaker-us-east-1-462848125024/aws_capstone_project/test_data --recursive"
   ]
  },
  {
   "cell_type": "code",
   "execution_count": 2,
   "metadata": {},
   "outputs": [],
   "source": [
    "train = \"s3://sagemaker-us-east-1-462848125024/aws_capstone_project/train_data/\"\n",
    "valid = \"s3://sagemaker-us-east-1-462848125024/aws_capstone_project/valid_data/\"\n",
    "test = \"s3://sagemaker-us-east-1-462848125024/aws_capstone_project/test_data/\""
   ]
  }
 ],
 "metadata": {
  "instance_type": "ml.g4dn.xlarge",
  "kernelspec": {
   "display_name": "Python 3 (ipykernel)",
   "language": "python",
   "name": "python3"
  },
  "language_info": {
   "codemirror_mode": {
    "name": "ipython",
    "version": 3
   },
   "file_extension": ".py",
   "mimetype": "text/x-python",
   "name": "python",
   "nbconvert_exporter": "python",
   "pygments_lexer": "ipython3",
   "version": "3.10.14"
  }
 },
 "nbformat": 4,
 "nbformat_minor": 4
}
